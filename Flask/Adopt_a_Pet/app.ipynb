{
 "cells": [
  {
   "cell_type": "code",
   "execution_count": 1,
   "metadata": {},
   "outputs": [
    {
     "name": "stdout",
     "output_type": "stream",
     "text": [
      "Collecting flask\n",
      "  Downloading Flask-2.1.3-py3-none-any.whl (95 kB)\n",
      "Collecting click>=8.0\n",
      "  Downloading click-8.1.3-py3-none-any.whl (96 kB)\n",
      "Requirement already satisfied: colorama in c:\\users\\aduzo\\anaconda3\\envs\\gmsjupyter\\lib\\site-packages (from click>=8.0->flask) (0.4.4)\n",
      "Collecting importlib-metadata>=3.6.0\n",
      "  Downloading importlib_metadata-4.12.0-py3-none-any.whl (21 kB)\n",
      "Requirement already satisfied: zipp>=0.5 in c:\\users\\aduzo\\anaconda3\\envs\\gmsjupyter\\lib\\site-packages (from importlib-metadata>=3.6.0->flask) (3.4.0)\n",
      "Collecting itsdangerous>=2.0\n",
      "  Downloading itsdangerous-2.1.2-py3-none-any.whl (15 kB)\n",
      "Collecting Jinja2>=3.0\n",
      "  Downloading Jinja2-3.1.2-py3-none-any.whl (133 kB)\n",
      "Collecting MarkupSafe>=2.0\n",
      "  Downloading MarkupSafe-2.1.1-cp38-cp38-win_amd64.whl (17 kB)\n",
      "Collecting Werkzeug>=2.0\n",
      "  Downloading Werkzeug-2.2.1-py3-none-any.whl (232 kB)\n",
      "Installing collected packages: MarkupSafe, Werkzeug, Jinja2, itsdangerous, importlib-metadata, click, flask\n",
      "  Attempting uninstall: MarkupSafe\n",
      "    Found existing installation: MarkupSafe 1.1.1\n",
      "    Uninstalling MarkupSafe-1.1.1:\n",
      "      Successfully uninstalled MarkupSafe-1.1.1\n",
      "  Attempting uninstall: Jinja2\n",
      "    Found existing installation: Jinja2 2.11.2\n",
      "    Uninstalling Jinja2-2.11.2:\n",
      "      Successfully uninstalled Jinja2-2.11.2\n",
      "  Attempting uninstall: importlib-metadata\n",
      "    Found existing installation: importlib-metadata 2.0.0\n",
      "    Uninstalling importlib-metadata-2.0.0:\n",
      "      Successfully uninstalled importlib-metadata-2.0.0\n",
      "Successfully installed Jinja2-3.1.2 MarkupSafe-2.1.1 Werkzeug-2.2.1 click-8.1.3 flask-2.1.3 importlib-metadata-4.12.0 itsdangerous-2.1.2\n"
     ]
    }
   ],
   "source": [
    "!pip install flask"
   ]
  },
  {
   "cell_type": "code",
   "execution_count": 3,
   "metadata": {},
   "outputs": [],
   "source": [
    "from flask import Flask\n",
    "from helper import pets\n",
    "\n",
    "app=Flask(__name__)\n",
    "\n",
    "@app.route('/')\n",
    "def index():\n",
    "  return '''\n",
    "  <h1>Adopt a Pet!</h1>\n",
    "  <p>\n",
    "    Browse through the links below to find your new furry friend:\n",
    "  </p>\n",
    "  <ul>\n",
    "    <li><a href=\"/animals/dogs\">Dogs</a></li>\n",
    "    <li><a href=\"/animals/cats\">Cats</a></li>\n",
    "    <li><a href=\"/animals/rabbits\">Rabbits</a></li>\n",
    "  </ul>\n",
    "  '''\n",
    "@app.route('/animals/<pet_type>')\n",
    "def animals(pet_type):\n",
    "    '''\n",
    "    for pet_name in pets[pet_type]:\n",
    "        f'<li>pet_name</li>'\n",
    "    '''\n",
    "    return f'''\n",
    "  <h1>List of {pet_type}</h1>\n",
    "  '''"
   ]
  },
  {
   "cell_type": "code",
   "execution_count": 4,
   "metadata": {},
   "outputs": [
    {
     "data": {
      "text/plain": [
       "\"\\n  <h1>List of {'dogs': [{'name': 'Spot', 'age': 2, 'breed': 'Dalmatian', 'description': 'Spot is an energetic puppy who seeks fun and adventure!', 'url': 'https://content.codecademy.com/programs/flask/introduction-to-flask/dog-spot.jpeg'}, {'name': 'Shadow', 'age': 4, 'breed': 'Border Collie', 'description': 'Eager and curious, Shadow enjoys company and can always be found tagging along at your heels!', 'url': 'https://content.codecademy.com/programs/flask/introduction-to-flask/dog-shadow.jpeg'}], 'cats': [{'name': 'Snowflake', 'age': 1, 'breed': 'Tabby', 'description': 'Snowflake is a playful kitten who loves roaming the house and exploring.', 'url': 'https://content.codecademy.com/programs/flask/introduction-to-flask/cat-snowflake.jpeg'}], 'rabbits': [{'name': 'Easter', 'age': 4, 'breed': 'Mini Rex', 'description': 'Easter is a sweet, gentle rabbit who likes spending most of the day sleeping.', 'url': 'https://content.codecademy.com/programs/flask/introduction-to-flask/rabbit-easter.jpeg'}]}</h1>\\n  \""
      ]
     },
     "execution_count": 4,
     "metadata": {},
     "output_type": "execute_result"
    }
   ],
   "source": [
    "animals(pets)"
   ]
  },
  {
   "cell_type": "code",
   "execution_count": 11,
   "metadata": {},
   "outputs": [
    {
     "name": "stdout",
     "output_type": "stream",
     "text": [
      "Spot\n",
      "Shadow\n"
     ]
    }
   ],
   "source": [
    "for pet in pets['dogs']:\n",
    "    print(pet[\"name\"])"
   ]
  },
  {
   "cell_type": "code",
   "execution_count": 5,
   "metadata": {},
   "outputs": [
    {
     "data": {
      "text/plain": [
       "{'name': 'Shadow',\n",
       " 'age': 4,\n",
       " 'breed': 'Border Collie',\n",
       " 'description': 'Eager and curious, Shadow enjoys company and can always be found tagging along at your heels!',\n",
       " 'url': 'https://content.codecademy.com/programs/flask/introduction-to-flask/dog-shadow.jpeg'}"
      ]
     },
     "execution_count": 5,
     "metadata": {},
     "output_type": "execute_result"
    }
   ],
   "source": [
    "pets['dogs'][1]"
   ]
  },
  {
   "cell_type": "code",
   "execution_count": 19,
   "metadata": {},
   "outputs": [
    {
     "name": "stdout",
     "output_type": "stream",
     "text": [
      "water\n",
      "fire\n",
      "earth\n",
      "air\n"
     ]
    }
   ],
   "source": [
    "zodiac_elements = {\"water\": [\"Cancer\", \"Scorpio\", \"Pisces\"], \"fire\": [\"Aries\", \"Leo\", \"Sagittarius\"], \"earth\": [\"Taurus\", \"Virgo\", \"Capricorn\"], \"air\":[\"Gemini\", \"Libra\", \"Aquarius\"]}\n",
    "\n",
    "for key in zodiac_elements:\n",
    "  print(key)\n",
    "  if key==\"energy\":\n",
    "    print(key)\n",
    "    #print(zodiac_elements[\"energy\"])"
   ]
  },
  {
   "cell_type": "code",
   "execution_count": 20,
   "metadata": {},
   "outputs": [],
   "source": [
    "if \"energy\" in zodiac_elements:\n",
    "    print(zodiac_elements[\"energy\"])"
   ]
  },
  {
   "cell_type": "code",
   "execution_count": 1,
   "metadata": {},
   "outputs": [
    {
     "name": "stdout",
     "output_type": "stream",
     "text": [
      "Best Picture\n",
      "Best Actor\n",
      "Best Actress\n",
      "Animated Feature\n"
     ]
    }
   ],
   "source": [
    "oscars = {\"Best Picture\": \"Moonlight\", \"Best Actor\": \"Casey Affleck\", \"Best Actress\": \"Emma Stone\", \"Animated Feature\": \"Zootopia\"}\n",
    " \n",
    "for element in oscars:\n",
    "  print(element)"
   ]
  },
  {
   "cell_type": "code",
   "execution_count": 2,
   "metadata": {},
   "outputs": [
    {
     "name": "stdout",
     "output_type": "stream",
     "text": [
      "False\n"
     ]
    }
   ],
   "source": [
    "inventory = {\"iron spear\": 12, \"invisible knife\": 30, \"needle of ambition\": 10, \"stone glove\": 20, \"the peacemaker\": 65, \"demonslayer\": 50}\n",
    " \n",
    "print(12 in inventory)"
   ]
  }
 ],
 "metadata": {
  "kernelspec": {
   "display_name": "Python 3.8.5 ('gmsjupyter')",
   "language": "python",
   "name": "python3"
  },
  "language_info": {
   "codemirror_mode": {
    "name": "ipython",
    "version": 3
   },
   "file_extension": ".py",
   "mimetype": "text/x-python",
   "name": "python",
   "nbconvert_exporter": "python",
   "pygments_lexer": "ipython3",
   "version": "3.8.5"
  },
  "orig_nbformat": 4,
  "vscode": {
   "interpreter": {
    "hash": "6cc629165e79e1511cf2bb12cca95963318409f37ea1640dc74ea3c0d2879d99"
   }
  }
 },
 "nbformat": 4,
 "nbformat_minor": 2
}
