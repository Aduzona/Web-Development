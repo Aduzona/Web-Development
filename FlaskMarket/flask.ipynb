{
 "cells": [
  {
   "cell_type": "code",
   "execution_count": 1,
   "metadata": {},
   "outputs": [
    {
     "name": "stdout",
     "output_type": "stream",
     "text": [
      "Requirement already satisfied: flask in c:\\users\\aduzo\\appdata\\local\\programs\\python\\python38\\lib\\site-packages (2.1.3)Note: you may need to restart the kernel to use updated packages.\n",
      "\n",
      "Requirement already satisfied: itsdangerous>=2.0 in c:\\users\\aduzo\\appdata\\local\\programs\\python\\python38\\lib\\site-packages (from flask) (2.1.2)\n",
      "Requirement already satisfied: Jinja2>=3.0 in c:\\users\\aduzo\\appdata\\local\\programs\\python\\python38\\lib\\site-packages (from flask) (3.0.1)\n",
      "Requirement already satisfied: click>=8.0 in c:\\users\\aduzo\\appdata\\local\\programs\\python\\python38\\lib\\site-packages (from flask) (8.0.3)\n",
      "Requirement already satisfied: Werkzeug>=2.0 in c:\\users\\aduzo\\appdata\\local\\programs\\python\\python38\\lib\\site-packages (from flask) (2.2.1)\n",
      "Requirement already satisfied: importlib-metadata>=3.6.0; python_version < \"3.10\" in c:\\users\\aduzo\\appdata\\local\\programs\\python\\python38\\lib\\site-packages (from flask) (4.12.0)\n"
     ]
    },
    {
     "name": "stderr",
     "output_type": "stream",
     "text": [
      "WARNING: You are using pip version 20.1.1; however, version 22.2.2 is available.\n",
      "You should consider upgrading via the 'c:\\Users\\aduzo\\AppData\\Local\\Programs\\Python\\Python38\\python.exe -m pip install --upgrade pip' command.\n"
     ]
    },
    {
     "name": "stdout",
     "output_type": "stream",
     "text": [
      "Requirement already satisfied: MarkupSafe>=2.0 in c:\\users\\aduzo\\appdata\\local\\programs\\python\\python38\\lib\\site-packages (from Jinja2>=3.0->flask) (2.1.1)\n",
      "Requirement already satisfied: colorama; platform_system == \"Windows\" in c:\\users\\aduzo\\appdata\\local\\programs\\python\\python38\\lib\\site-packages (from click>=8.0->flask) (0.4.4)\n",
      "Requirement already satisfied: zipp>=0.5 in c:\\users\\aduzo\\appdata\\local\\programs\\python\\python38\\lib\\site-packages (from importlib-metadata>=3.6.0; python_version < \"3.10\"->flask) (3.8.1)\n"
     ]
    }
   ],
   "source": [
    "pip install flask"
   ]
  },
  {
   "cell_type": "code",
   "execution_count": 2,
   "metadata": {},
   "outputs": [
    {
     "name": "stdout",
     "output_type": "stream",
     "text": [
      "Collecting flask-sqlalchemyNote: you may need to restart the kernel to use updated packages.\n"
     ]
    },
    {
     "name": "stderr",
     "output_type": "stream",
     "text": [
      "WARNING: You are using pip version 20.1.1; however, version 22.2.2 is available.\n",
      "You should consider upgrading via the 'c:\\Users\\aduzo\\AppData\\Local\\Programs\\Python\\Python38\\python.exe -m pip install --upgrade pip' command.\n"
     ]
    },
    {
     "name": "stdout",
     "output_type": "stream",
     "text": [
      "\n",
      "  Downloading Flask_SQLAlchemy-2.5.1-py2.py3-none-any.whl (17 kB)\n",
      "Collecting SQLAlchemy>=0.8.0\n",
      "  Downloading SQLAlchemy-1.4.40-cp38-cp38-win_amd64.whl (1.6 MB)\n",
      "Requirement already satisfied: Flask>=0.10 in c:\\users\\aduzo\\appdata\\local\\programs\\python\\python38\\lib\\site-packages (from flask-sqlalchemy) (2.1.3)\n",
      "Collecting greenlet!=0.4.17; python_version >= \"3\" and (platform_machine == \"aarch64\" or (platform_machine == \"ppc64le\" or (platform_machine == \"x86_64\" or (platform_machine == \"amd64\" or (platform_machine == \"AMD64\" or (platform_machine == \"win32\" or platform_machine == \"WIN32\"))))))\n",
      "  Downloading greenlet-1.1.2-cp38-cp38-win_amd64.whl (101 kB)\n",
      "Requirement already satisfied: click>=8.0 in c:\\users\\aduzo\\appdata\\local\\programs\\python\\python38\\lib\\site-packages (from Flask>=0.10->flask-sqlalchemy) (8.0.3)\n",
      "Requirement already satisfied: importlib-metadata>=3.6.0; python_version < \"3.10\" in c:\\users\\aduzo\\appdata\\local\\programs\\python\\python38\\lib\\site-packages (from Flask>=0.10->flask-sqlalchemy) (4.12.0)\n",
      "Requirement already satisfied: Jinja2>=3.0 in c:\\users\\aduzo\\appdata\\local\\programs\\python\\python38\\lib\\site-packages (from Flask>=0.10->flask-sqlalchemy) (3.0.1)\n",
      "Requirement already satisfied: itsdangerous>=2.0 in c:\\users\\aduzo\\appdata\\local\\programs\\python\\python38\\lib\\site-packages (from Flask>=0.10->flask-sqlalchemy) (2.1.2)\n",
      "Requirement already satisfied: Werkzeug>=2.0 in c:\\users\\aduzo\\appdata\\local\\programs\\python\\python38\\lib\\site-packages (from Flask>=0.10->flask-sqlalchemy) (2.2.1)\n",
      "Requirement already satisfied: colorama; platform_system == \"Windows\" in c:\\users\\aduzo\\appdata\\local\\programs\\python\\python38\\lib\\site-packages (from click>=8.0->Flask>=0.10->flask-sqlalchemy) (0.4.4)\n",
      "Requirement already satisfied: zipp>=0.5 in c:\\users\\aduzo\\appdata\\local\\programs\\python\\python38\\lib\\site-packages (from importlib-metadata>=3.6.0; python_version < \"3.10\"->Flask>=0.10->flask-sqlalchemy) (3.8.1)\n",
      "Requirement already satisfied: MarkupSafe>=2.0 in c:\\users\\aduzo\\appdata\\local\\programs\\python\\python38\\lib\\site-packages (from Jinja2>=3.0->Flask>=0.10->flask-sqlalchemy) (2.1.1)\n",
      "Installing collected packages: greenlet, SQLAlchemy, flask-sqlalchemy\n",
      "Successfully installed SQLAlchemy-1.4.40 flask-sqlalchemy-2.5.1 greenlet-1.1.2\n"
     ]
    }
   ],
   "source": [
    "pip install flask-sqlalchemy"
   ]
  },
  {
   "cell_type": "code",
   "execution_count": 12,
   "metadata": {},
   "outputs": [],
   "source": [
    "from market import db"
   ]
  },
  {
   "cell_type": "code",
   "execution_count": 4,
   "metadata": {},
   "outputs": [],
   "source": [
    "db.create_all()# create database"
   ]
  },
  {
   "cell_type": "code",
   "execution_count": 13,
   "metadata": {},
   "outputs": [],
   "source": [
    "from market import Item"
   ]
  },
  {
   "cell_type": "code",
   "execution_count": null,
   "metadata": {},
   "outputs": [],
   "source": [
    "\n",
    "item1= Item(name=\"IPhone 10\" ,price=500, barcode='893212299897',description='desc')\n",
    "\n",
    "db.session.add(item1)\n",
    "db.session.commit()"
   ]
  },
  {
   "cell_type": "code",
   "execution_count": 6,
   "metadata": {},
   "outputs": [
    {
     "data": {
      "text/plain": [
       "[<Item 1>]"
      ]
     },
     "execution_count": 6,
     "metadata": {},
     "output_type": "execute_result"
    }
   ],
   "source": [
    "Item.query.all()# show result from database"
   ]
  },
  {
   "cell_type": "code",
   "execution_count": 7,
   "metadata": {},
   "outputs": [],
   "source": [
    "item2= Item(name=\"Laptop\" ,price=600,description='description', barcode='32191298754')\n",
    "db.session.add(item2)\n",
    "db.session.commit()"
   ]
  },
  {
   "cell_type": "code",
   "execution_count": 8,
   "metadata": {},
   "outputs": [
    {
     "data": {
      "text/plain": [
       "[<Item 1>, <Item 2>]"
      ]
     },
     "execution_count": 8,
     "metadata": {},
     "output_type": "execute_result"
    }
   ],
   "source": [
    "Item.query.all()"
   ]
  },
  {
   "cell_type": "markdown",
   "metadata": {},
   "source": [
    "After updating the Item class in market.py\n",
    "\n",
    "Execute the codes line by line in python shell in CMD\n",
    "\n",
    "```py\n",
    "from market import db\n",
    "from market import Item\n",
    "Item.query.all()\n",
    "```"
   ]
  },
  {
   "cell_type": "code",
   "execution_count": 20,
   "metadata": {},
   "outputs": [
    {
     "name": "stdout",
     "output_type": "stream",
     "text": [
      "name: IPhone 10 price:500 description: desc id: 1 barcode: 893212299897\n",
      "name: Laptop price:600 description: description id: 2 barcode: 32191298754\n"
     ]
    }
   ],
   "source": [
    "# Iterate through all of our examples.\n",
    "\n",
    "for item in Item.query.all():\n",
    "    print(f'name: {item.name} price:{item.price} description: {item.description} id: {item.id} barcode: {item.barcode}')"
   ]
  },
  {
   "cell_type": "code",
   "execution_count": 21,
   "metadata": {},
   "outputs": [
    {
     "data": {
      "text/plain": [
       "<flask_sqlalchemy.BaseQuery at 0x21dd6b2aeb0>"
      ]
     },
     "execution_count": 21,
     "metadata": {},
     "output_type": "execute_result"
    }
   ],
   "source": [
    "Item.query.filter_by(price=500)# filtering item"
   ]
  },
  {
   "cell_type": "code",
   "execution_count": 22,
   "metadata": {},
   "outputs": [
    {
     "name": "stdout",
     "output_type": "stream",
     "text": [
      "name: IPhone 10 price:500 description: desc id: 1 barcode: 893212299897\n"
     ]
    }
   ],
   "source": [
    "for item in Item.query.filter_by(price=500):\n",
    "    print(f'name: {item.name} price:{item.price} description: {item.description} id: {item.id} barcode: {item.barcode}')"
   ]
  },
  {
   "cell_type": "code",
   "execution_count": null,
   "metadata": {},
   "outputs": [],
   "source": [
    "# Inspect your database in a visual interface using DB Browser for SQLite"
   ]
  },
  {
   "cell_type": "code",
   "execution_count": 1,
   "metadata": {},
   "outputs": [],
   "source": [
    "from market.models import db"
   ]
  },
  {
   "cell_type": "code",
   "execution_count": 2,
   "metadata": {},
   "outputs": [],
   "source": [
    "db.drop_all()# delete everything in database include all the tables\n",
    "db.create_all()# recreate everything"
   ]
  },
  {
   "cell_type": "code",
   "execution_count": 3,
   "metadata": {},
   "outputs": [],
   "source": [
    "from market.models import User,Item\n",
    "\n",
    "u1=User(username='jsc', password_hash='123456',email_address='jsc@jsc.com')"
   ]
  },
  {
   "cell_type": "code",
   "execution_count": 5,
   "metadata": {},
   "outputs": [],
   "source": [
    "#import os\n",
    "#os.system()\n",
    "\n",
    "db.session.add(u1)\n",
    "db.session.commit()"
   ]
  },
  {
   "cell_type": "code",
   "execution_count": 6,
   "metadata": {},
   "outputs": [
    {
     "data": {
      "text/plain": [
       "[<User 1>]"
      ]
     },
     "execution_count": 6,
     "metadata": {},
     "output_type": "execute_result"
    }
   ],
   "source": [
    "User.query.all()"
   ]
  },
  {
   "cell_type": "code",
   "execution_count": 8,
   "metadata": {},
   "outputs": [],
   "source": [
    "i1=Item(name='Iphone 10', description='description',barcode='123456789123',price=800)"
   ]
  },
  {
   "cell_type": "code",
   "execution_count": 9,
   "metadata": {},
   "outputs": [],
   "source": [
    "db.session.add(i1)\n",
    "db.session.commit()"
   ]
  },
  {
   "cell_type": "code",
   "execution_count": 12,
   "metadata": {},
   "outputs": [],
   "source": [
    "i2=Item(name='Laptop', description='description2',barcode='654321789123',price=1000)\n",
    "db.session.add(i2)\n",
    "db.session.commit()"
   ]
  },
  {
   "cell_type": "code",
   "execution_count": 13,
   "metadata": {},
   "outputs": [
    {
     "data": {
      "text/plain": [
       "[Item Iphone 10, Item Laptop]"
      ]
     },
     "execution_count": 13,
     "metadata": {},
     "output_type": "execute_result"
    }
   ],
   "source": [
    "Item.query.all()"
   ]
  },
  {
   "cell_type": "markdown",
   "metadata": {},
   "source": [
    "Assign an Ownership of Iphone to Item"
   ]
  },
  {
   "cell_type": "code",
   "execution_count": 14,
   "metadata": {},
   "outputs": [
    {
     "data": {
      "text/plain": [
       "<flask_sqlalchemy.BaseQuery at 0x26ae15e4190>"
      ]
     },
     "execution_count": 14,
     "metadata": {},
     "output_type": "execute_result"
    }
   ],
   "source": [
    "item1=Item.query.filter_by(name='IPhone 10')\n",
    "item1"
   ]
  },
  {
   "cell_type": "code",
   "execution_count": 16,
   "metadata": {},
   "outputs": [],
   "source": [
    "item1=Item.query.filter_by(name='IPhone 10').first()"
   ]
  },
  {
   "cell_type": "code",
   "execution_count": 22,
   "metadata": {},
   "outputs": [
    {
     "name": "stdout",
     "output_type": "stream",
     "text": [
      "Iphone 10\n"
     ]
    }
   ],
   "source": [
    "for item in Item.query.filter_by(price=800):\n",
    "    print(item.name)"
   ]
  },
  {
   "cell_type": "code",
   "execution_count": 27,
   "metadata": {},
   "outputs": [
    {
     "ename": "AttributeError",
     "evalue": "'NoneType' object has no attribute 'owner'",
     "output_type": "error",
     "traceback": [
      "\u001b[1;31m---------------------------------------------------------------------------\u001b[0m",
      "\u001b[1;31mAttributeError\u001b[0m                            Traceback (most recent call last)",
      "\u001b[1;32m<ipython-input-27-7c12dd9f283b>\u001b[0m in \u001b[0;36m<module>\u001b[1;34m\u001b[0m\n\u001b[1;32m----> 1\u001b[1;33m \u001b[0mitem1\u001b[0m\u001b[1;33m.\u001b[0m\u001b[0mowner\u001b[0m\u001b[1;33m\u001b[0m\u001b[1;33m\u001b[0m\u001b[0m\n\u001b[0m",
      "\u001b[1;31mAttributeError\u001b[0m: 'NoneType' object has no attribute 'owner'"
     ]
    }
   ],
   "source": [
    "item1.owner"
   ]
  },
  {
   "cell_type": "code",
   "execution_count": 24,
   "metadata": {},
   "outputs": [
    {
     "ename": "AttributeError",
     "evalue": "'NoneType' object has no attribute 'owner'",
     "output_type": "error",
     "traceback": [
      "\u001b[1;31m---------------------------------------------------------------------------\u001b[0m",
      "\u001b[1;31mAttributeError\u001b[0m                            Traceback (most recent call last)",
      "\u001b[1;32m<ipython-input-24-51d18eacd33a>\u001b[0m in \u001b[0;36m<module>\u001b[1;34m\u001b[0m\n\u001b[1;32m----> 1\u001b[1;33m \u001b[0mitem1\u001b[0m\u001b[1;33m.\u001b[0m\u001b[0mowner\u001b[0m \u001b[1;33m=\u001b[0m \u001b[0mUser\u001b[0m\u001b[1;33m.\u001b[0m\u001b[0mquery\u001b[0m\u001b[1;33m.\u001b[0m\u001b[0mfilter_by\u001b[0m\u001b[1;33m(\u001b[0m\u001b[0musername\u001b[0m\u001b[1;33m=\u001b[0m\u001b[1;34m'jsc'\u001b[0m\u001b[1;33m)\u001b[0m\u001b[1;33m.\u001b[0m\u001b[0mfirst\u001b[0m\u001b[1;33m(\u001b[0m\u001b[1;33m)\u001b[0m\u001b[1;33m\u001b[0m\u001b[1;33m\u001b[0m\u001b[0m\n\u001b[0m\u001b[0;32m      2\u001b[0m \u001b[0mdb\u001b[0m\u001b[1;33m.\u001b[0m\u001b[0msession\u001b[0m\u001b[1;33m.\u001b[0m\u001b[0madd\u001b[0m\u001b[1;33m(\u001b[0m\u001b[0mitem1\u001b[0m\u001b[1;33m)\u001b[0m\u001b[1;33m\u001b[0m\u001b[1;33m\u001b[0m\u001b[0m\n\u001b[0;32m      3\u001b[0m \u001b[0mdb\u001b[0m\u001b[1;33m.\u001b[0m\u001b[0msession\u001b[0m\u001b[1;33m.\u001b[0m\u001b[0mcommit\u001b[0m\u001b[1;33m(\u001b[0m\u001b[1;33m)\u001b[0m\u001b[1;33m\u001b[0m\u001b[1;33m\u001b[0m\u001b[0m\n",
      "\u001b[1;31mAttributeError\u001b[0m: 'NoneType' object has no attribute 'owner'"
     ]
    }
   ],
   "source": [
    "item1.owner = User.query.filter_by(username='jsc').first()\n",
    "db.session.add(item1)\n",
    "db.session.commit()"
   ]
  },
  {
   "cell_type": "code",
   "execution_count": 25,
   "metadata": {},
   "outputs": [],
   "source": [
    "db.session.rollback()"
   ]
  },
  {
   "cell_type": "code",
   "execution_count": 35,
   "metadata": {},
   "outputs": [
    {
     "ename": "AttributeError",
     "evalue": "'NoneType' object has no attribute 'owner'",
     "output_type": "error",
     "traceback": [
      "\u001b[1;31m---------------------------------------------------------------------------\u001b[0m",
      "\u001b[1;31mAttributeError\u001b[0m                            Traceback (most recent call last)",
      "\u001b[1;32m<ipython-input-35-94563c0597b0>\u001b[0m in \u001b[0;36m<module>\u001b[1;34m\u001b[0m\n\u001b[1;32m----> 1\u001b[1;33m \u001b[0mitem1\u001b[0m\u001b[1;33m.\u001b[0m\u001b[0mowner\u001b[0m \u001b[1;33m=\u001b[0m \u001b[0mUser\u001b[0m\u001b[1;33m.\u001b[0m\u001b[0mquery\u001b[0m\u001b[1;33m.\u001b[0m\u001b[0mfilter_by\u001b[0m\u001b[1;33m(\u001b[0m\u001b[0musername\u001b[0m\u001b[1;33m=\u001b[0m\u001b[1;34m'jsc'\u001b[0m\u001b[1;33m)\u001b[0m\u001b[1;33m.\u001b[0m\u001b[0mfirst\u001b[0m\u001b[1;33m(\u001b[0m\u001b[1;33m)\u001b[0m\u001b[1;33m.\u001b[0m\u001b[0mid\u001b[0m\u001b[1;33m\u001b[0m\u001b[1;33m\u001b[0m\u001b[0m\n\u001b[0m\u001b[0;32m      2\u001b[0m \u001b[0mdb\u001b[0m\u001b[1;33m.\u001b[0m\u001b[0msession\u001b[0m\u001b[1;33m.\u001b[0m\u001b[0madd\u001b[0m\u001b[1;33m(\u001b[0m\u001b[0mitem1\u001b[0m\u001b[1;33m)\u001b[0m\u001b[1;33m\u001b[0m\u001b[1;33m\u001b[0m\u001b[0m\n\u001b[0;32m      3\u001b[0m \u001b[0mdb\u001b[0m\u001b[1;33m.\u001b[0m\u001b[0msession\u001b[0m\u001b[1;33m.\u001b[0m\u001b[0mcommit\u001b[0m\u001b[1;33m(\u001b[0m\u001b[1;33m)\u001b[0m\u001b[1;33m\u001b[0m\u001b[1;33m\u001b[0m\u001b[0m\n",
      "\u001b[1;31mAttributeError\u001b[0m: 'NoneType' object has no attribute 'owner'"
     ]
    }
   ],
   "source": [
    "item1.owner = User.query.filter_by(username='jsc').first().id\n",
    "db.session.add(item1)\n",
    "db.session.commit()"
   ]
  },
  {
   "cell_type": "code",
   "execution_count": 28,
   "metadata": {},
   "outputs": [
    {
     "name": "stdout",
     "output_type": "stream",
     "text": [
      "None\n"
     ]
    }
   ],
   "source": [
    "for item in Item.query.filter_by(price=800):\n",
    "    print(item.owner)"
   ]
  },
  {
   "cell_type": "code",
   "execution_count": 29,
   "metadata": {},
   "outputs": [
    {
     "data": {
      "text/plain": [
       "1"
      ]
     },
     "execution_count": 29,
     "metadata": {},
     "output_type": "execute_result"
    }
   ],
   "source": [
    "User.query.filter_by(username='jsc').first().id"
   ]
  },
  {
   "cell_type": "code",
   "execution_count": 33,
   "metadata": {},
   "outputs": [],
   "source": [
    "i=Item.query.filter_by(name='Iphone 10').first()"
   ]
  },
  {
   "cell_type": "code",
   "execution_count": 34,
   "metadata": {},
   "outputs": [],
   "source": [
    "i.owned_user"
   ]
  },
  {
   "cell_type": "markdown",
   "metadata": {},
   "source": [
    "**Generate Secrete key**"
   ]
  },
  {
   "cell_type": "code",
   "execution_count": 38,
   "metadata": {},
   "outputs": [
    {
     "name": "stdout",
     "output_type": "stream",
     "text": [
      "Collecting flask_wtfNote: you may need to restart the kernel to use updated packages.\n",
      "\n",
      "  Using cached Flask_WTF-1.0.1-py3-none-any.whl (12 kB)\n",
      "Requirement already satisfied: itsdangerous in c:\\users\\aduzo\\appdata\\local\\programs\\python\\python38\\lib\\site-packages (from flask_wtf) (2.1.2)\n",
      "Requirement already satisfied: Flask in c:\\users\\aduzo\\appdata\\local\\programs\\python\\python38\\lib\\site-packages (from flask_wtf) (2.1.3)\n",
      "Collecting WTForms\n",
      "  Using cached WTForms-3.0.1-py3-none-any.whl (136 kB)\n",
      "Requirement already satisfied: Jinja2>=3.0 in c:\\users\\aduzo\\appdata\\local\\programs\\python\\python38\\lib\\site-packages (from Flask->flask_wtf) (3.0.1)\n",
      "Requirement already satisfied: importlib-metadata>=3.6.0; python_version < \"3.10\" in c:\\users\\aduzo\\appdata\\local\\programs\\python\\python38\\lib\\site-packages (from Flask->flask_wtf) (4.12.0)\n",
      "Requirement already satisfied: Werkzeug>=2.0 in c:\\users\\aduzo\\appdata\\local\\programs\\python\\python38\\lib\\site-packages (from Flask->flask_wtf) (2.2.1)\n",
      "Requirement already satisfied: click>=8.0 in c:\\users\\aduzo\\appdata\\local\\programs\\python\\python38\\lib\\site-packages (from Flask->flask_wtf) (8.0.3)\n",
      "Requirement already satisfied: MarkupSafe in c:\\users\\aduzo\\appdata\\local\\programs\\python\\python38\\lib\\site-packages (from WTForms->flask_wtf) (2.1.1)\n",
      "Requirement already satisfied: zipp>=0.5 in c:\\users\\aduzo\\appdata\\local\\programs\\python\\python38\\lib\\site-packages (from importlib-metadata>=3.6.0; python_version < \"3.10\"->Flask->flask_wtf) (3.8.1)\n",
      "Requirement already satisfied: colorama; platform_system == \"Windows\" in c:\\users\\aduzo\\appdata\\local\\programs\\python\\python38\\lib\\site-packages (from click>=8.0->Flask->flask_wtf) (0.4.4)\n",
      "Installing collected packages: WTForms, flask-wtf\n",
      "Successfully installed WTForms-3.0.1 flask-wtf-1.0.1\n"
     ]
    },
    {
     "name": "stderr",
     "output_type": "stream",
     "text": [
      "WARNING: You are using pip version 20.1.1; however, version 22.2.2 is available.\n",
      "You should consider upgrading via the 'c:\\Users\\aduzo\\AppData\\Local\\Programs\\Python\\Python38\\python.exe -m pip install --upgrade pip' command.\n"
     ]
    }
   ],
   "source": [
    "pip install flask_wtf"
   ]
  },
  {
   "cell_type": "code",
   "execution_count": 36,
   "metadata": {},
   "outputs": [],
   "source": [
    "import os"
   ]
  },
  {
   "cell_type": "code",
   "execution_count": 37,
   "metadata": {},
   "outputs": [
    {
     "data": {
      "text/plain": [
       "'c380dcafba240df1cf4ad02f'"
      ]
     },
     "execution_count": 37,
     "metadata": {},
     "output_type": "execute_result"
    }
   ],
   "source": [
    "os.urandom(12).hex()\n",
    "# generate secret key and \n",
    "# use this throughout app development"
   ]
  }
 ],
 "metadata": {
  "kernelspec": {
   "display_name": "Python 3.8.5 64-bit",
   "language": "python",
   "name": "python3"
  },
  "language_info": {
   "codemirror_mode": {
    "name": "ipython",
    "version": 3
   },
   "file_extension": ".py",
   "mimetype": "text/x-python",
   "name": "python",
   "nbconvert_exporter": "python",
   "pygments_lexer": "ipython3",
   "version": "3.8.5"
  },
  "orig_nbformat": 4,
  "vscode": {
   "interpreter": {
    "hash": "47f55b8e4ab2d90537d649e261de2895999ea0054e075cef2eb1a18e66b4ddad"
   }
  }
 },
 "nbformat": 4,
 "nbformat_minor": 2
}
