{
 "cells": [
  {
   "cell_type": "code",
   "execution_count": 2,
   "metadata": {},
   "outputs": [
    {
     "name": "stdout",
     "output_type": "stream",
     "text": [
      "Collecting hugNote: you may need to restart the kernel to use updated packages.\n",
      "\n",
      "  Downloading hug-2.6.1-py2.py3-none-any.whl (75 kB)\n",
      "Requirement already satisfied: requests in c:\\users\\aduzo\\anaconda3\\envs\\gmsjupyter\\lib\\site-packages (from hug) (2.25.0)\n",
      "Collecting falcon==2.0.0\n",
      "  Downloading falcon-2.0.0-py2.py3-none-any.whl (163 kB)\n",
      "Requirement already satisfied: idna<3,>=2.5 in c:\\users\\aduzo\\anaconda3\\envs\\gmsjupyter\\lib\\site-packages (from requests->hug) (2.10)\n",
      "Requirement already satisfied: chardet<4,>=3.0.2 in c:\\users\\aduzo\\anaconda3\\envs\\gmsjupyter\\lib\\site-packages (from requests->hug) (3.0.4)\n",
      "Requirement already satisfied: certifi>=2017.4.17 in c:\\users\\aduzo\\anaconda3\\envs\\gmsjupyter\\lib\\site-packages (from requests->hug) (2020.12.5)\n",
      "Requirement already satisfied: urllib3<1.27,>=1.21.1 in c:\\users\\aduzo\\anaconda3\\envs\\gmsjupyter\\lib\\site-packages (from requests->hug) (1.25.11)\n",
      "Installing collected packages: falcon, hug\n",
      "Successfully installed falcon-2.0.0 hug-2.6.1\n"
     ]
    }
   ],
   "source": [
    "pip install hug"
   ]
  },
  {
   "cell_type": "markdown",
   "metadata": {},
   "source": [
    "Epossin"
   ]
  },
  {
   "cell_type": "code",
   "execution_count": 5,
   "metadata": {},
   "outputs": [],
   "source": [
    "from app2 import get_books"
   ]
  },
  {
   "cell_type": "code",
   "execution_count": 6,
   "metadata": {},
   "outputs": [
    {
     "data": {
      "text/plain": [
       "{'title': 'PRIDE AND PRED'}"
      ]
     },
     "execution_count": 6,
     "metadata": {},
     "output_type": "execute_result"
    }
   ],
   "source": [
    "get_books(\"Pride and Pred\")"
   ]
  },
  {
   "cell_type": "markdown",
   "metadata": {},
   "source": [
    "AS API"
   ]
  },
  {
   "cell_type": "code",
   "execution_count": 8,
   "metadata": {},
   "outputs": [],
   "source": [
    "#hug -f app2.py"
   ]
  }
 ],
 "metadata": {
  "kernelspec": {
   "display_name": "Python 3.8.5 ('gmsjupyter')",
   "language": "python",
   "name": "python3"
  },
  "language_info": {
   "codemirror_mode": {
    "name": "ipython",
    "version": 3
   },
   "file_extension": ".py",
   "mimetype": "text/x-python",
   "name": "python",
   "nbconvert_exporter": "python",
   "pygments_lexer": "ipython3",
   "version": "3.8.5"
  },
  "orig_nbformat": 4,
  "vscode": {
   "interpreter": {
    "hash": "6cc629165e79e1511cf2bb12cca95963318409f37ea1640dc74ea3c0d2879d99"
   }
  }
 },
 "nbformat": 4,
 "nbformat_minor": 2
}
