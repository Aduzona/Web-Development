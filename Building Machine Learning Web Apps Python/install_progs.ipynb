{
 "cells": [
  {
   "cell_type": "code",
   "execution_count": 1,
   "metadata": {},
   "outputs": [
    {
     "name": "stdout",
     "output_type": "stream",
     "text": [
      "Collecting Flask-SQLALchemy\n",
      "  Using cached Flask_SQLAlchemy-2.5.1-py2.py3-none-any.whl (17 kB)\n",
      "Requirement already satisfied: Flask>=0.10 in c:\\users\\aduzo\\anaconda3\\envs\\gmsjupyter\\lib\\site-packages (from Flask-SQLALchemy) (2.1.3)\n",
      "Requirement already satisfied: Jinja2>=3.0 in c:\\users\\aduzo\\anaconda3\\envs\\gmsjupyter\\lib\\site-packages (from Flask>=0.10->Flask-SQLALchemy) (3.1.2)\n",
      "Requirement already satisfied: importlib-metadata>=3.6.0 in c:\\users\\aduzo\\anaconda3\\envs\\gmsjupyter\\lib\\site-packages (from Flask>=0.10->Flask-SQLALchemy) (4.12.0)\n",
      "Requirement already satisfied: click>=8.0 in c:\\users\\aduzo\\anaconda3\\envs\\gmsjupyter\\lib\\site-packages (from Flask>=0.10->Flask-SQLALchemy) (8.1.3)\n",
      "Requirement already satisfied: itsdangerous>=2.0 in c:\\users\\aduzo\\anaconda3\\envs\\gmsjupyter\\lib\\site-packages (from Flask>=0.10->Flask-SQLALchemy) (2.1.2)\n",
      "Requirement already satisfied: Werkzeug>=2.0 in c:\\users\\aduzo\\anaconda3\\envs\\gmsjupyter\\lib\\site-packages (from Flask>=0.10->Flask-SQLALchemy) (2.2.1)\n",
      "Requirement already satisfied: colorama in c:\\users\\aduzo\\anaconda3\\envs\\gmsjupyter\\lib\\site-packages (from click>=8.0->Flask>=0.10->Flask-SQLALchemy) (0.4.4)\n",
      "Requirement already satisfied: zipp>=0.5 in c:\\users\\aduzo\\anaconda3\\envs\\gmsjupyter\\lib\\site-packages (from importlib-metadata>=3.6.0->Flask>=0.10->Flask-SQLALchemy) (3.4.0)\n",
      "Requirement already satisfied: MarkupSafe>=2.0 in c:\\users\\aduzo\\anaconda3\\envs\\gmsjupyter\\lib\\site-packages (from Jinja2>=3.0->Flask>=0.10->Flask-SQLALchemy) (2.1.1)\n",
      "Collecting SQLAlchemy>=0.8.0\n",
      "  Using cached SQLAlchemy-1.4.40-cp38-cp38-win_amd64.whl (1.6 MB)\n",
      "Collecting greenlet!=0.4.17\n",
      "  Using cached greenlet-1.1.2-cp38-cp38-win_amd64.whl (101 kB)\n",
      "Requirement already satisfied: MarkupSafe>=2.0 in c:\\users\\aduzo\\anaconda3\\envs\\gmsjupyter\\lib\\site-packages (from Jinja2>=3.0->Flask>=0.10->Flask-SQLALchemy) (2.1.1)\n",
      "Installing collected packages: greenlet, SQLAlchemy, Flask-SQLALchemy\n",
      "Successfully installed Flask-SQLALchemy-2.5.1 SQLAlchemy-1.4.40 greenlet-1.1.2\n",
      "Note: you may need to restart the kernel to use updated packages.\n"
     ]
    }
   ],
   "source": [
    "pip install Flask-SQLALchemy"
   ]
  }
 ],
 "metadata": {
  "kernelspec": {
   "display_name": "Python 3.8.5 ('gmsjupyter')",
   "language": "python",
   "name": "python3"
  },
  "language_info": {
   "codemirror_mode": {
    "name": "ipython",
    "version": 3
   },
   "file_extension": ".py",
   "mimetype": "text/x-python",
   "name": "python",
   "nbconvert_exporter": "python",
   "pygments_lexer": "ipython3",
   "version": "3.8.5"
  },
  "orig_nbformat": 4,
  "vscode": {
   "interpreter": {
    "hash": "6cc629165e79e1511cf2bb12cca95963318409f37ea1640dc74ea3c0d2879d99"
   }
  }
 },
 "nbformat": 4,
 "nbformat_minor": 2
}
