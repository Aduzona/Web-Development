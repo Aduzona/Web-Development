{
 "cells": [
  {
   "cell_type": "code",
   "execution_count": 1,
   "metadata": {},
   "outputs": [
    {
     "name": "stdout",
     "output_type": "stream",
     "text": [
      "Collecting streamlitNote: you may need to restart the kernel to use updated packages.\n",
      "  Downloading streamlit-1.12.2-py2.py3-none-any.whl (9.1 MB)\n",
      "Requirement already satisfied: pillow>=6.2.0 in c:\\users\\aduzo\\anaconda3\\envs\\gmsjupyter\\lib\\site-packages (from streamlit) (8.3.2)\n",
      "Requirement already satisfied: numpy in c:\\users\\aduzo\\anaconda3\\envs\\gmsjupyter\\lib\\site-packages (from streamlit) (1.19.2)\n",
      "Requirement already satisfied: python-dateutil in c:\\users\\aduzo\\anaconda3\\envs\\gmsjupyter\\lib\\site-packages (from streamlit) (2.8.1)\n",
      "Requirement already satisfied: pandas>=0.21.0 in c:\\users\\aduzo\\anaconda3\\envs\\gmsjupyter\\lib\\site-packages (from streamlit) (1.1.3)\n",
      "\n",
      "Requirement already satisfied: packaging>=14.1 in c:\\users\\aduzo\\anaconda3\\envs\\gmsjupyter\\lib\\site-packages (from streamlit) (20.7)\n",
      "Requirement already satisfied: requests>=2.4 in c:\\users\\aduzo\\anaconda3\\envs\\gmsjupyter\\lib\\site-packages (from streamlit) (2.25.0)\n",
      "Requirement already satisfied: importlib-metadata>=1.4 in c:\\users\\aduzo\\anaconda3\\envs\\gmsjupyter\\lib\\site-packages (from streamlit) (4.12.0)\n",
      "Requirement already satisfied: tornado>=5.0 in c:\\users\\aduzo\\anaconda3\\envs\\gmsjupyter\\lib\\site-packages (from streamlit) (6.1)\n",
      "Requirement already satisfied: click>=7.0 in c:\\users\\aduzo\\anaconda3\\envs\\gmsjupyter\\lib\\site-packages (from streamlit) (8.1.3)\n",
      "Collecting altair>=3.2.0\n",
      "  Downloading altair-4.2.0-py3-none-any.whl (812 kB)\n",
      "Requirement already satisfied: pandas>=0.21.0 in c:\\users\\aduzo\\anaconda3\\envs\\gmsjupyter\\lib\\site-packages (from streamlit) (1.1.3)\n",
      "Requirement already satisfied: jinja2 in c:\\users\\aduzo\\anaconda3\\envs\\gmsjupyter\\lib\\site-packages (from altair>=3.2.0->streamlit) (3.1.2)\n",
      "Requirement already satisfied: entrypoints in c:\\users\\aduzo\\anaconda3\\envs\\gmsjupyter\\lib\\site-packages (from altair>=3.2.0->streamlit) (0.3)\n",
      "Requirement already satisfied: jsonschema>=3.0 in c:\\users\\aduzo\\anaconda3\\envs\\gmsjupyter\\lib\\site-packages (from altair>=3.2.0->streamlit) (3.2.0)\n",
      "Requirement already satisfied: numpy in c:\\users\\aduzo\\anaconda3\\envs\\gmsjupyter\\lib\\site-packages (from streamlit) (1.19.2)\n",
      "Collecting blinker>=1.0.0\n",
      "  Downloading blinker-1.5-py2.py3-none-any.whl (12 kB)\n",
      "Collecting cachetools>=4.0\n",
      "  Downloading cachetools-5.2.0-py3-none-any.whl (9.3 kB)\n",
      "Requirement already satisfied: colorama in c:\\users\\aduzo\\anaconda3\\envs\\gmsjupyter\\lib\\site-packages (from click>=7.0->streamlit) (0.4.4)\n",
      "Collecting gitpython!=3.1.19\n",
      "  Downloading GitPython-3.1.27-py3-none-any.whl (181 kB)\n",
      "Collecting gitdb<5,>=4.0.1\n",
      "  Downloading gitdb-4.0.9-py3-none-any.whl (63 kB)\n",
      "Requirement already satisfied: zipp>=0.5 in c:\\users\\aduzo\\anaconda3\\envs\\gmsjupyter\\lib\\site-packages (from importlib-metadata>=1.4->streamlit) (3.4.0)\n",
      "Requirement already satisfied: MarkupSafe>=2.0 in c:\\users\\aduzo\\anaconda3\\envs\\gmsjupyter\\lib\\site-packages (from jinja2->altair>=3.2.0->streamlit) (2.1.1)\n",
      "Requirement already satisfied: pyrsistent>=0.14.0 in c:\\users\\aduzo\\anaconda3\\envs\\gmsjupyter\\lib\\site-packages (from jsonschema>=3.0->altair>=3.2.0->streamlit) (0.17.3)\n",
      "Requirement already satisfied: six>=1.11.0 in c:\\users\\aduzo\\anaconda3\\envs\\gmsjupyter\\lib\\site-packages (from jsonschema>=3.0->altair>=3.2.0->streamlit) (1.15.0)\n",
      "Requirement already satisfied: setuptools in c:\\users\\aduzo\\anaconda3\\envs\\gmsjupyter\\lib\\site-packages (from jsonschema>=3.0->altair>=3.2.0->streamlit) (51.0.0.post20201207)\n",
      "Requirement already satisfied: attrs>=17.4.0 in c:\\users\\aduzo\\anaconda3\\envs\\gmsjupyter\\lib\\site-packages (from jsonschema>=3.0->altair>=3.2.0->streamlit) (20.3.0)\n",
      "Requirement already satisfied: pyparsing>=2.0.2 in c:\\users\\aduzo\\anaconda3\\envs\\gmsjupyter\\lib\\site-packages (from packaging>=14.1->streamlit) (2.4.7)\n",
      "Requirement already satisfied: python-dateutil in c:\\users\\aduzo\\anaconda3\\envs\\gmsjupyter\\lib\\site-packages (from streamlit) (2.8.1)\n",
      "Requirement already satisfied: numpy in c:\\users\\aduzo\\anaconda3\\envs\\gmsjupyter\\lib\\site-packages (from streamlit) (1.19.2)\n",
      "Requirement already satisfied: pytz>=2017.2 in c:\\users\\aduzo\\anaconda3\\envs\\gmsjupyter\\lib\\site-packages (from pandas>=0.21.0->streamlit) (2020.4)\n",
      "Collecting protobuf<4,>=3.12\n",
      "  Downloading protobuf-3.20.1-cp38-cp38-win_amd64.whl (904 kB)\n",
      "Collecting pyarrow>=4.0\n",
      "  Downloading pyarrow-9.0.0-cp38-cp38-win_amd64.whl (19.6 MB)\n",
      "Requirement already satisfied: numpy in c:\\users\\aduzo\\anaconda3\\envs\\gmsjupyter\\lib\\site-packages (from streamlit) (1.19.2)\n",
      "Collecting pydeck>=0.1.dev5\n",
      "  Downloading pydeck-0.8.0b1-py2.py3-none-any.whl (4.7 MB)\n",
      "Requirement already satisfied: numpy in c:\\users\\aduzo\\anaconda3\\envs\\gmsjupyter\\lib\\site-packages (from streamlit) (1.19.2)\n",
      "Requirement already satisfied: jinja2 in c:\\users\\aduzo\\anaconda3\\envs\\gmsjupyter\\lib\\site-packages (from altair>=3.2.0->streamlit) (3.1.2)\n",
      "Collecting pympler>=0.9\n",
      "  Downloading Pympler-1.0.1-py3-none-any.whl (164 kB)\n",
      "Requirement already satisfied: six>=1.11.0 in c:\\users\\aduzo\\anaconda3\\envs\\gmsjupyter\\lib\\site-packages (from jsonschema>=3.0->altair>=3.2.0->streamlit) (1.15.0)\n",
      "Requirement already satisfied: urllib3<1.27,>=1.21.1 in c:\\users\\aduzo\\anaconda3\\envs\\gmsjupyter\\lib\\site-packages (from requests>=2.4->streamlit) (1.25.11)\n",
      "Requirement already satisfied: chardet<4,>=3.0.2 in c:\\users\\aduzo\\anaconda3\\envs\\gmsjupyter\\lib\\site-packages (from requests>=2.4->streamlit) (3.0.4)\n",
      "Requirement already satisfied: idna<3,>=2.5 in c:\\users\\aduzo\\anaconda3\\envs\\gmsjupyter\\lib\\site-packages (from requests>=2.4->streamlit) (2.10)\n",
      "Requirement already satisfied: certifi>=2017.4.17 in c:\\users\\aduzo\\anaconda3\\envs\\gmsjupyter\\lib\\site-packages (from requests>=2.4->streamlit) (2020.12.5)\n",
      "Collecting rich>=10.11.0\n",
      "  Downloading rich-12.5.1-py3-none-any.whl (235 kB)\n",
      "Requirement already satisfied: pygments<3.0.0,>=2.6.0 in c:\\users\\aduzo\\anaconda3\\envs\\gmsjupyter\\lib\\site-packages (from rich>=10.11.0->streamlit) (2.7.3)\n",
      "Collecting commonmark<0.10.0,>=0.9.0\n",
      "  Downloading commonmark-0.9.1-py2.py3-none-any.whl (51 kB)\n",
      "Collecting semver\n",
      "  Downloading semver-2.13.0-py2.py3-none-any.whl (12 kB)\n",
      "Collecting smmap<6,>=3.0.1\n",
      "  Downloading smmap-5.0.0-py3-none-any.whl (24 kB)\n",
      "Collecting toml\n",
      "  Using cached toml-0.10.2-py2.py3-none-any.whl (16 kB)\n",
      "Collecting toolz\n",
      "  Downloading toolz-0.12.0-py3-none-any.whl (55 kB)\n",
      "Collecting typing-extensions>=3.10.0.0\n",
      "  Downloading typing_extensions-4.3.0-py3-none-any.whl (25 kB)\n",
      "Collecting tzlocal>=1.1\n",
      "  Downloading tzlocal-4.2-py3-none-any.whl (19 kB)\n",
      "Collecting backports.zoneinfo\n",
      "  Downloading backports.zoneinfo-0.2.1-cp38-cp38-win_amd64.whl (38 kB)\n",
      "Collecting pytz-deprecation-shim\n",
      "  Downloading pytz_deprecation_shim-0.1.0.post0-py2.py3-none-any.whl (15 kB)\n",
      "Collecting tzdata\n",
      "  Downloading tzdata-2022.2-py2.py3-none-any.whl (336 kB)\n",
      "Collecting validators>=0.2\n",
      "  Downloading validators-0.20.0.tar.gz (30 kB)\n",
      "Requirement already satisfied: decorator>=3.4.0 in c:\\users\\aduzo\\anaconda3\\envs\\gmsjupyter\\lib\\site-packages (from validators>=0.2->streamlit) (4.4.2)\n",
      "Collecting watchdog\n",
      "  Downloading watchdog-2.1.9-py3-none-win_amd64.whl (78 kB)\n",
      "Building wheels for collected packages: validators\n",
      "  Building wheel for validators (setup.py): started\n",
      "  Building wheel for validators (setup.py): finished with status 'done'\n",
      "  Created wheel for validators: filename=validators-0.20.0-py3-none-any.whl size=19567 sha256=8996c6cfe196ca9211e58e0a6229838aa58e642a83b85960da6cdc0883e1f833\n",
      "  Stored in directory: c:\\users\\aduzo\\appdata\\local\\pip\\cache\\wheels\\19\\09\\72\\3eb74d236bb48bd0f3c6c3c83e4e0c5bbfcbcad7c6c3539db8\n",
      "Successfully built validators\n",
      "Installing collected packages: tzdata, smmap, backports.zoneinfo, typing-extensions, toolz, pytz-deprecation-shim, gitdb, commonmark, watchdog, validators, tzlocal, toml, semver, rich, pympler, pydeck, pyarrow, protobuf, gitpython, cachetools, blinker, altair, streamlit\n",
      "Successfully installed altair-4.2.0 backports.zoneinfo-0.2.1 blinker-1.5 cachetools-5.2.0 commonmark-0.9.1 gitdb-4.0.9 gitpython-3.1.27 protobuf-3.20.1 pyarrow-9.0.0 pydeck-0.8.0b1 pympler-1.0.1 pytz-deprecation-shim-0.1.0.post0 rich-12.5.1 semver-2.13.0 smmap-5.0.0 streamlit-1.12.2 toml-0.10.2 toolz-0.12.0 typing-extensions-4.3.0 tzdata-2022.2 tzlocal-4.2 validators-0.20.0 watchdog-2.1.9\n"
     ]
    }
   ],
   "source": [
    "pip install streamlit"
   ]
  },
  {
   "cell_type": "code",
   "execution_count": 1,
   "metadata": {},
   "outputs": [
    {
     "name": "stdout",
     "output_type": "stream",
     "text": [
      "Collecting wordcloudNote: you may need to restart the kernel to use updated packages.\n",
      "  Downloading wordcloud-1.8.2.2-cp38-cp38-win_amd64.whl (152 kB)\n",
      "Requirement already satisfied: matplotlib in c:\\users\\aduzo\\anaconda3\\envs\\gmsjupyter\\lib\\site-packages (from wordcloud) (3.4.3)\n",
      "Requirement already satisfied: numpy>=1.6.1 in c:\\users\\aduzo\\anaconda3\\envs\\gmsjupyter\\lib\\site-packages (from wordcloud) (1.19.2)\n",
      "Requirement already satisfied: pillow in c:\\users\\aduzo\\anaconda3\\envs\\gmsjupyter\\lib\\site-packages (from wordcloud) (8.3.2)\n",
      "Requirement already satisfied: cycler>=0.10 in c:\\users\\aduzo\\anaconda3\\envs\\gmsjupyter\\lib\\site-packages (from matplotlib->wordcloud) (0.10.0)\n",
      "Requirement already satisfied: kiwisolver>=1.0.1 in c:\\users\\aduzo\\anaconda3\\envs\\gmsjupyter\\lib\\site-packages (from matplotlib->wordcloud) (1.3.2)\n",
      "Requirement already satisfied: pillow in c:\\users\\aduzo\\anaconda3\\envs\\gmsjupyter\\lib\\site-packages (from wordcloud) (8.3.2)\n",
      "Requirement already satisfied: pyparsing>=2.2.1 in c:\\users\\aduzo\\anaconda3\\envs\\gmsjupyter\\lib\\site-packages (from matplotlib->wordcloud) (2.4.7)\n",
      "Requirement already satisfied: python-dateutil>=2.7 in c:\\users\\aduzo\\anaconda3\\envs\\gmsjupyter\\lib\\site-packages (from matplotlib->wordcloud) (2.8.1)\n",
      "Requirement already satisfied: numpy>=1.6.1 in c:\\users\\aduzo\\anaconda3\\envs\\gmsjupyter\\lib\\site-packages (from wordcloud) (1.19.2)\n",
      "Requirement already satisfied: six in c:\\users\\aduzo\\anaconda3\\envs\\gmsjupyter\\lib\\site-packages (from cycler>=0.10->matplotlib->wordcloud) (1.15.0)\n",
      "Requirement already satisfied: six in c:\\users\\aduzo\\anaconda3\\envs\\gmsjupyter\\lib\\site-packages (from cycler>=0.10->matplotlib->wordcloud) (1.15.0)\n",
      "Installing collected packages: wordcloud\n",
      "Successfully installed wordcloud-1.8.2.2\n",
      "\n"
     ]
    }
   ],
   "source": [
    "pip install wordcloud"
   ]
  }
 ],
 "metadata": {
  "kernelspec": {
   "display_name": "Python 3.8.5 ('gmsjupyter')",
   "language": "python",
   "name": "python3"
  },
  "language_info": {
   "codemirror_mode": {
    "name": "ipython",
    "version": 3
   },
   "file_extension": ".py",
   "mimetype": "text/x-python",
   "name": "python",
   "nbconvert_exporter": "python",
   "pygments_lexer": "ipython3",
   "version": "3.8.5"
  },
  "orig_nbformat": 4,
  "vscode": {
   "interpreter": {
    "hash": "6cc629165e79e1511cf2bb12cca95963318409f37ea1640dc74ea3c0d2879d99"
   }
  }
 },
 "nbformat": 4,
 "nbformat_minor": 2
}
